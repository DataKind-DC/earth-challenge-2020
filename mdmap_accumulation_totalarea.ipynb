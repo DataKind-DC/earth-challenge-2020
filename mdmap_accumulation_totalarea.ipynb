{
 "cells": [
  {
   "cell_type": "code",
   "execution_count": null,
   "metadata": {},
   "outputs": [],
   "source": [
    "import pandas as pd\n",
    "import numpy as np\n",
    "import matplotlib.pyplot as plt\n",
    "import seaborn as sns\n",
    "%matplotlib inline"
   ]
  },
  {
   "cell_type": "markdown",
   "metadata": {},
   "source": [
    "### Read in raw MDMAP data."
   ]
  },
  {
   "cell_type": "code",
   "execution_count": null,
   "metadata": {},
   "outputs": [],
   "source": [
    "mdmap_accumulation = pd.read_csv('data_raw/MDMAP_AccumulationReport_all_regions.csv')\n",
    "mdmap_accumulation.head()"
   ]
  },
  {
   "cell_type": "markdown",
   "metadata": {},
   "source": [
    "### Basic checks on the data."
   ]
  },
  {
   "cell_type": "code",
   "execution_count": null,
   "metadata": {},
   "outputs": [],
   "source": [
    "# total number of observations\n",
    "mdmap_accumulation.shape"
   ]
  },
  {
   "cell_type": "code",
   "execution_count": null,
   "metadata": {},
   "outputs": [],
   "source": [
    "print(list(mdmap_accumulation))"
   ]
  },
  {
   "cell_type": "markdown",
   "metadata": {},
   "source": [
    "### Create uniqueId so that later other data can be joined in ArcGIS"
   ]
  },
  {
   "cell_type": "code",
   "execution_count": null,
   "metadata": {},
   "outputs": [],
   "source": [
    "mdmap_accumulation['UniqueId'] = mdmap_accumulation.apply(lambda x:'%s_%s' % (x['Survey ID'], x['Date']),axis=1)\n",
    "len(mdmap_accumulation['UniqueId'].unique())"
   ]
  },
  {
   "cell_type": "markdown",
   "metadata": {},
   "source": [
    "### Compute total area by multiplying recorded length & width of beaches."
   ]
  },
  {
   "cell_type": "code",
   "execution_count": null,
   "metadata": {},
   "outputs": [],
   "source": [
    "mdmap_accumulation['TotalArea'] = mdmap_accumulation['Width'] * mdmap_accumulation['Length']"
   ]
  },
  {
   "cell_type": "markdown",
   "metadata": {},
   "source": [
    "### Exclude data where total area is 0 (only 7 out of 2799 total observations)"
   ]
  },
  {
   "cell_type": "code",
   "execution_count": null,
   "metadata": {},
   "outputs": [],
   "source": [
    "mdmap_accumulation = mdmap_accumulation[mdmap_accumulation['TotalArea'] > 0]\n",
    "mdmap_accumulation.shape"
   ]
  },
  {
   "cell_type": "markdown",
   "metadata": {},
   "source": [
    "### Write data with computed TotalArea and obs with zero TotalArea removed to `mdmap_accumulation_totalarea_zerosremoved.csv`"
   ]
  },
  {
   "cell_type": "code",
   "execution_count": 35,
   "metadata": {},
   "outputs": [],
   "source": [
    "mdmap_accumulation.to_csv('data_processed/mdmap_accumulation_totalarea_zerosremoved.csv', index=False)"
   ]
  },
  {
   "cell_type": "markdown",
   "metadata": {},
   "source": [
    "### Simplifying the file for upload into ArcGIS"
   ]
  },
  {
   "cell_type": "code",
   "execution_count": 36,
   "metadata": {},
   "outputs": [],
   "source": [
    "# these are the columns for which we agreed we wanted data to go into ArcGIS\n",
    "mdmap_accumulation_simplified = mdmap_accumulation[['Organization',\n",
    "                                         'Date',\n",
    "                                         'Survey Year',\n",
    "                                         'Country',\n",
    "                                         'State',\n",
    "                                         'County',\n",
    "                                         'Survey ID',\n",
    "                                         'MDMAP ID #',\n",
    "                                         'Shoreline Name',\n",
    "                                         'Days since last survey',\n",
    "                                         'Latitude Start',\n",
    "                                         'Longitude Start',\n",
    "                                         'Latitude End',\n",
    "                                         'Longitude End',\n",
    "                                         'Slope',\n",
    "                                         'Width',\n",
    "                                         'Length',\n",
    "                                         'Number of Persons Assisting',\n",
    "                                         'Plastic']]"
   ]
  },
  {
   "cell_type": "code",
   "execution_count": 37,
   "metadata": {},
   "outputs": [],
   "source": [
    "mdmap_accumulation_simplified.to_csv('data_processed/MDMAP_Accumulation_ForArcGIS_0443PM.csv', index=False)"
   ]
  }
 ],
 "metadata": {
  "kernelspec": {
   "display_name": "Python 3",
   "language": "python",
   "name": "python3"
  },
  "language_info": {
   "codemirror_mode": {
    "name": "ipython",
    "version": 3
   },
   "file_extension": ".py",
   "mimetype": "text/x-python",
   "name": "python",
   "nbconvert_exporter": "python",
   "pygments_lexer": "ipython3",
   "version": "3.7.1"
  }
 },
 "nbformat": 4,
 "nbformat_minor": 2
}
